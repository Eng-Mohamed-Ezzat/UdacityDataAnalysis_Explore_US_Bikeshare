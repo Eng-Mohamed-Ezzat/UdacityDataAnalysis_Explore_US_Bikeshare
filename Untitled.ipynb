{
 "cells": [
  {
   "cell_type": "code",
   "execution_count": 148,
   "metadata": {},
   "outputs": [],
   "source": [
    "import time\n",
    "import pandas as pd\n",
    "import numpy as np\n",
    "import calendar as cl\n",
    "import os\n",
    "\n",
    "DATA_CITY = { \n",
    "              'Chicago': 'chicago.csv',\n",
    "              'New york': 'new_york_city.csv',\n",
    "              'Washington': 'washington.csv'}\n",
    "\n",
    "DATA_Month = ('January', 'February', 'March', 'April', 'May', 'June')\n",
    "\n",
    "DATA_Day = list(cl.day_name)"
   ]
  },
  {
   "cell_type": "code",
   "execution_count": 151,
   "metadata": {},
   "outputs": [
    {
     "data": {
      "text/plain": [
       "False"
      ]
     },
     "execution_count": 151,
     "metadata": {},
     "output_type": "execute_result"
    }
   ],
   "source": [
    "usrday = \"8\"\n",
    "usrday.isnumeric() and int(usrday) in range(len(DATA_Day)+1) or usrday.title() in DATA_Day or usrday[:3].title() in [d[0:3] for d in DATA_Day]"
   ]
  },
  {
   "cell_type": "code",
   "execution_count": null,
   "metadata": {},
   "outputs": [],
   "source": [
    "usrday = \"8\"\n",
    "\n",
    "if usrday[:3].lower()=='all' or usrday.strip()=='0':\n",
    "    day = 'all'\n",
    "elif usrday.isnumeric() and int(usrday) in range(len(DATA_Day)+1) or usrday.title() in DATA_Day or usrday[:3].title() in [d[0:3] for d in DATA_Day]:\n",
    "    day =DATA_Day[int(usrday)-1] if usrday.isnumeric() else list(d for d in DATA_Day if d[0:3] == usrday[:3].title())[0]\n",
    "else:\n",
    "    print(\"Wrong month Entry. :(\")\n",
    "\n",
    "print(usrday)"
   ]
  },
  {
   "cell_type": "code",
   "execution_count": null,
   "metadata": {},
   "outputs": [],
   "source": []
  }
 ],
 "metadata": {
  "kernelspec": {
   "display_name": "Python 3",
   "language": "python",
   "name": "python3"
  },
  "language_info": {
   "codemirror_mode": {
    "name": "ipython",
    "version": 3
   },
   "file_extension": ".py",
   "mimetype": "text/x-python",
   "name": "python",
   "nbconvert_exporter": "python",
   "pygments_lexer": "ipython3",
   "version": "3.8.5"
  }
 },
 "nbformat": 4,
 "nbformat_minor": 4
}
